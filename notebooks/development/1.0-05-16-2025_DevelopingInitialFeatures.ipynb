{
 "cells": [
  {
   "cell_type": "markdown",
   "id": "c4f862e4",
   "metadata": {},
   "source": [
    "### Objective: To develop and test functions for performing initial analysis of trajectories. \n",
    "\n",
    "I am going to test and compare MDTraj/MDTraj/pytraj."
   ]
  },
  {
   "cell_type": "code",
   "execution_count": 7,
   "id": "acb9d369",
   "metadata": {},
   "outputs": [
    {
     "name": "stdout",
     "output_type": "stream",
     "text": [
      "The autoreload extension is already loaded. To reload it, use:\n",
      "  %reload_ext autoreload\n"
     ]
    }
   ],
   "source": [
    "import MDAnalysis  as mda\n",
    "from nglview.datafiles import PDB, XTC\n",
    "import MDAnalysis.analysis\n",
    "import mdtraj as md\n",
    "import pytraj as pt\n",
    "import nglview as nv\n",
    "import numpy as np\n",
    "import pandas as pd\n",
    "\n",
    "\n",
    "\n",
    "import matplotlib.pyplot as plt\n",
    "import seaborn as sns\n",
    "\n",
    "from pathlib import Path\n",
    "\n",
    "from vir_md_analysis.utils import (ls)\n",
    "\n",
    "%config InlineBackend.figure_format = 'retina'\n",
    "%load_ext autoreload\n",
    "%autoreload 2\n"
   ]
  },
  {
   "cell_type": "markdown",
   "id": "bd61beba",
   "metadata": {},
   "source": [
    "#### Load the trajectories with MDAnalysis"
   ]
  },
  {
   "cell_type": "code",
   "execution_count": 2,
   "id": "0c772913",
   "metadata": {},
   "outputs": [
    {
     "name": "stdout",
     "output_type": "stream",
     "text": [
      "Data dir exists: True\n"
     ]
    },
    {
     "data": {
      "text/plain": [
       "['README.md', '4md.nc', 'prep4.pdb', 'look_and_say.dat', '2md.nc', '3md.nc']"
      ]
     },
     "execution_count": 2,
     "metadata": {},
     "output_type": "execute_result"
    }
   ],
   "source": [
    "data_dir = Path().cwd().parent.parent / 'vir_md_analysis' / 'data'\n",
    "print(f'Data dir exists: {data_dir.exists()}')\n",
    "ls(data_dir)"
   ]
  },
  {
   "cell_type": "code",
   "execution_count": 3,
   "id": "3b0bcef9",
   "metadata": {},
   "outputs": [],
   "source": [
    "pdb = data_dir / 'prep4.pdb'\n",
    "nc_files = ls(data_dir,False, suffix='nc')\n",
    "\n",
    "# Load the trajectory\n",
    "u = mda.Universe(pdb, nc_files[2])\n"
   ]
  },
  {
   "cell_type": "code",
   "execution_count": 6,
   "id": "e8ceabd1",
   "metadata": {},
   "outputs": [
    {
     "data": {
      "application/vnd.jupyter.widget-view+json": {
       "model_id": "ad42c1cf93924502a2e216466ec1e630",
       "version_major": 2,
       "version_minor": 0
      },
      "text/plain": [
       "NGLWidget(max_frame=999)"
      ]
     },
     "metadata": {},
     "output_type": "display_data"
    }
   ],
   "source": [
    "protein = u.select_atoms('protein')\n",
    "view = nv.show_mdanalysis(protein)\n",
    "view.add_representation('cartoon')\n",
    "view"
   ]
  },
  {
   "cell_type": "code",
   "execution_count": 13,
   "id": "1bd59469-c23c-422a-9f37-cbddd1225500",
   "metadata": {},
   "outputs": [
    {
     "name": "stderr",
     "output_type": "stream",
     "text": [
      "/Users/ChristopherRivera/micromamba/envs/openmm_melt/lib/python3.12/site-packages/MDAnalysis/topology/PDBParser.py:350: UserWarning: Element information is missing, elements attribute will not be populated. If needed these can be guessed using universe.guess_TopologyAttrs(context='default', to_guess=['elements']).\n",
      "  warnings.warn(\"Element information is missing, elements attribute \"\n"
     ]
    },
    {
     "data": {
      "application/vnd.jupyter.widget-view+json": {
       "model_id": "b3d87aa92bd442e5987cc4106892d1a8",
       "version_major": 2,
       "version_minor": 0
      },
      "text/plain": [
       "NGLWidget(max_frame=50)"
      ]
     },
     "metadata": {},
     "output_type": "display_data"
    }
   ],
   "source": [
    "u2 = mda.Universe(PDB, XTC)\n",
    "protein = u2.select_atoms('protein')\n",
    "view = nv.show_mdanalysis(protein)\n",
    "view.add_representation('cartoon')\n",
    "view"
   ]
  },
  {
   "cell_type": "code",
   "execution_count": 5,
   "id": "86730ae5",
   "metadata": {},
   "outputs": [
    {
     "data": {
      "text/plain": [
       "array(['CA', 'CB', 'CG', ..., 'CA', 'CB', 'C'],\n",
       "      shape=(1144,), dtype=object)"
      ]
     },
     "execution_count": 5,
     "metadata": {},
     "output_type": "execute_result"
    }
   ],
   "source": [
    "def calculate_radius_of_gyration_for_subset(u, start_resid, end_resid, chain_id='A'): \n",
    "    \"\"\" "
   ]
  },
  {
   "cell_type": "code",
   "execution_count": null,
   "id": "3792092e",
   "metadata": {},
   "outputs": [],
   "source": []
  }
 ],
 "metadata": {
  "kernelspec": {
   "display_name": "Python 3 (ipykernel)",
   "language": "python",
   "name": "python3"
  },
  "language_info": {
   "codemirror_mode": {
    "name": "ipython",
    "version": 3
   },
   "file_extension": ".py",
   "mimetype": "text/x-python",
   "name": "python",
   "nbconvert_exporter": "python",
   "pygments_lexer": "ipython3",
   "version": "3.12.10"
  }
 },
 "nbformat": 4,
 "nbformat_minor": 5
}
