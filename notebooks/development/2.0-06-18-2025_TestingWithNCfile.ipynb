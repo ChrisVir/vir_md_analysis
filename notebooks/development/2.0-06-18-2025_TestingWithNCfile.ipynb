{
 "cells": [
  {
   "cell_type": "markdown",
   "id": "23d2ebe2",
   "metadata": {},
   "source": [
    "### Objective: To test analysis with nc file and write a pipeline function to do all the analysis\n",
    "\n",
    "Istvan recently installed Amber in a docker and ran a simulation of an antibody using the docker. Implicit Solvent. "
   ]
  },
  {
   "cell_type": "code",
   "execution_count": 1,
   "id": "55347992",
   "metadata": {},
   "outputs": [
    {
     "data": {
      "application/vnd.jupyter.widget-view+json": {
       "model_id": "5fc74c73fa51483d97ec90508114b4aa",
       "version_major": 2,
       "version_minor": 0
      },
      "text/plain": []
     },
     "metadata": {},
     "output_type": "display_data"
    }
   ],
   "source": [
    "import nglview as nv\n",
    "import pandas as pd\n",
    "from pathlib import Path\n",
    "import mdtraj as md\n",
    "import pytraj as pt\n",
    "\n",
    "from vir_md_analysis.utils import ls"
   ]
  },
  {
   "cell_type": "markdown",
   "id": "4609de57",
   "metadata": {},
   "source": [
    "##### Load the NC file. "
   ]
  },
  {
   "cell_type": "code",
   "execution_count": 2,
   "id": "155b0995",
   "metadata": {},
   "outputs": [
    {
     "data": {
      "text/plain": [
       "['8md_prod.info',\n",
       " '8md_prod.rst',\n",
       " '8md_prod.out',\n",
       " '8md_prod.nc',\n",
       " 'MAbFv.parm7',\n",
       " 'alpha_RBD_B38.psf',\n",
       " 'README.md',\n",
       " 'MAbFv.parm7.hmass.parm7',\n",
       " '4md.nc',\n",
       " 'alpha_RBD_B38_500ns.dcd',\n",
       " 'prep4.pdb',\n",
       " 'look_and_say.dat',\n",
       " '2md.nc',\n",
       " '3md.nc']"
      ]
     },
     "execution_count": 2,
     "metadata": {},
     "output_type": "execute_result"
    }
   ],
   "source": [
    "data_dir = Path().cwd().parent.parent / 'vir_md_analysis' / 'data'\n",
    "ls(data_dir)"
   ]
  },
  {
   "cell_type": "code",
   "execution_count": 3,
   "id": "ade3df7b",
   "metadata": {},
   "outputs": [],
   "source": [
    "def load_mdtraj(trajectory_file: str | Path, topology_file: str | Path) -> md.Trajectory:\n",
    "    \"\"\"Load a trajectory using mdtraj.\n",
    "    trajectory_file: str or Path\n",
    "        Path to the trajectory file (e.g., .dcd, .nc).\n",
    "    topology_file: str or Path\n",
    "        Path to the topology file (e.g., .pdb, .prmtop).\n",
    "    Returns:\n",
    "        md.Trajectory object.\n",
    "    \"\"\"\n",
    "\n",
    "    if isinstance(trajectory_file, str):\n",
    "        trajectory_file = Path(trajectory_file)\n",
    "    if isinstance(topology_file, str):\n",
    "        topology_file = Path(topology_file)\n",
    "    # Check if the files exist\n",
    "\n",
    "    if not trajectory_file.exists():\n",
    "        raise FileNotFoundError(f\"Trajectory file {trajectory_file} does not exist.\")\n",
    "    if not topology_file.exists():\n",
    "        raise FileNotFoundError(f\"Topology file {topology_file} does not exist.\")\n",
    "\n",
    "    if trajectory_file.suffix == '.nc':\n",
    "        traj = md.load_netcdf(trajectory_file, top=topology_file)\n",
    "    elif trajectory_file.suffix == '.dcd':\n",
    "        traj = md.load_dcd(trajectory_file, top=topology_file)\n",
    "    else:\n",
    "        raise ValueError(\"Unsupported trajectory file format. Only .nc and .dcd are supported.\")\n",
    "    return traj\n",
    "\n",
    "\n",
    "def load_pytraj(trajectory_file: str | Path, topology_file: str | Path) -> pt.Trajectory:\n",
    "    \"\"\"Load a trajectory using pytraj.\n",
    "    trajectory_file: str or Path\n",
    "        Path to the trajectory file (e.g., .dcd, .nc).\n",
    "    topology_file: str or Path\n",
    "        Path to the topology file (e.g., .pdb, .prmtop).\n",
    "    Returns:\n",
    "        pt.Trajectory object.\n",
    "    \"\"\"\n",
    "    if isinstance(trajectory_file, str):\n",
    "        trajectory_file = Path(trajectory_file)\n",
    "    if isinstance(topology_file, str):\n",
    "        topology_file = Path(topology_file)\n",
    "\n",
    "    # Check if the files exist\n",
    "    if not trajectory_file.exists():\n",
    "        raise FileNotFoundError(f\"Trajectory file {trajectory_file} does not exist.\")\n",
    "    if not topology_file.exists():\n",
    "        raise FileNotFoundError(f\"Topology file {topology_file} does not exist.\")\n",
    "\n",
    "    traj = pt.load(str(trajectory_file), top=str(topology_file))\n",
    "    return traj"
   ]
  },
  {
   "cell_type": "code",
   "execution_count": 4,
   "id": "7a3575df",
   "metadata": {},
   "outputs": [],
   "source": [
    "nc = data_dir/ '8md_prod.nc'\n",
    "top = data_dir/'MAbFv.parm7.hmass.parm7'\n",
    "traj = load_mdtraj(nc, top)"
   ]
  },
  {
   "cell_type": "code",
   "execution_count": 5,
   "id": "e05b5f6e",
   "metadata": {},
   "outputs": [],
   "source": [
    "pt_traj = load_pytraj(nc, top)"
   ]
  },
  {
   "cell_type": "markdown",
   "id": "dd1b430d",
   "metadata": {},
   "source": [
    "##### Write the function to get all the data of interest and return a DataFrame\n",
    "\n",
    "This function will load the NC file and topology file into mdtraj and then pytraj. For each library, it will extract the appropriate features and return a DataFrame. m"
   ]
  },
  {
   "cell_type": "code",
   "execution_count": 6,
   "id": "b111a8d6",
   "metadata": {},
   "outputs": [],
   "source": [
    "# A dictionary that holds reference to the features of interest. \n",
    "feature_func_map = {'mdtraj': [], 'pytraj': []}"
   ]
  },
  {
   "cell_type": "code",
   "execution_count": 7,
   "id": "bcd7ee54",
   "metadata": {},
   "outputs": [],
   "source": [
    "from collections import defaultdict\n",
    "\n",
    "def extract_features(trajectory_file: Path | str,\n",
    "                     topology_file: Path | str,\n",
    "                     library: str='mdtraj',\n",
    "                     features: list[callable] | None = None,\n",
    "                     system_name: str | None = None):\n",
    "    \"\"\"Extract features from a trajectory using either mdtraj or pytraj.\n",
    "    Arguments:\n",
    "        trajectory_file: Path or str\n",
    "            Path to the trajectory file (e.g., .dcd, .nc).\n",
    "        topology_file: Path or str\n",
    "            Path to the topology file (e.g., .pdb, .prmtop).\n",
    "        library: str\n",
    "            The library to use for loading the trajectory. Options are 'mdtraj' or 'pytraj'.\n",
    "        features: list of callables or None\n",
    "            List of feature extraction functions to apply. If None, default features for the library will be used.\n",
    "        system_name: str or None\n",
    "            Name of the system for the output DataFrame. If None, the name will be derived from the trajectory file name.\n",
    "    Returns:\n",
    "        pd.DataFrame\n",
    "            DataFrame containing the extracted features with the system name as the first column.\n",
    "    \n",
    "    \"\"\"\n",
    "    if library == 'mdtraj':\n",
    "        traj = load_mdtraj(trajectory_file, topology_file)\n",
    "    elif library == 'pytraj':\n",
    "        traj = load_pytraj(trajectory_file, topology_file)\n",
    "    else:\n",
    "        raise ValueError(\"Unsupported library. Use 'mdtraj' or 'pytraj'.\")\n",
    "\n",
    "    if features is None:\n",
    "        features = feature_func_map[library]\n",
    "\n",
    "    feature_values = {}\n",
    "    # consider using dask or multiprocessing for large trajectories\n",
    "    for func in features: \n",
    "        results = func(traj)\n",
    "        feature_values[func.__name__] = results \n",
    "\n",
    "    feature_df = pd.DataFrame(feature_values)\n",
    "    if not system_name:\n",
    "        system_name = trajectory_file.stem\n",
    "    \n",
    "    feature_df.insert(0, 'system', system_name)\n",
    "    return feature_df\n"
   ]
  },
  {
   "cell_type": "code",
   "execution_count": null,
   "id": "81bf4a00",
   "metadata": {},
   "outputs": [],
   "source": []
  }
 ],
 "metadata": {
  "kernelspec": {
   "display_name": "Python 3",
   "language": "python",
   "name": "python3"
  },
  "language_info": {
   "codemirror_mode": {
    "name": "ipython",
    "version": 3
   },
   "file_extension": ".py",
   "mimetype": "text/x-python",
   "name": "python",
   "nbconvert_exporter": "python",
   "pygments_lexer": "ipython3",
   "version": "3.12.10"
  }
 },
 "nbformat": 4,
 "nbformat_minor": 5
}
